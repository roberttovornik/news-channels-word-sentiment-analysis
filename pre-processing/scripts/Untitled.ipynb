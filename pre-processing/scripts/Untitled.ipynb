{
 "cells": [
  {
   "cell_type": "code",
   "execution_count": 2,
   "metadata": {},
   "outputs": [],
   "source": [
    "article_1= \"\"\"The BBC's weekly The Boss series profiles a different business leader from around the world. This week we speak to Charlie MacGregor, founder of student accommodation group The Student Hotel.\n",
    "Scot Charlie MacGregor says he will never forget watching the boats full of desperate refugees and illegal migrants trying to come ashore on the Greek island of Lesbos.\n",
    "\"Some boats didn't know where they were going, so would end up on the rocks,\" says the 42-year-old. \"Some [of those onboard] didn't even make it.\n",
    "\"The lucky ones that did were often terrorised, not only by the journey, but [fearing] what would happen to them next.\"\n",
    "This was in October 2015, when more than 2,000 people in unauthorised boats were arriving on Lesbos every single day, most of them Syrians escaping civil war.\n",
    "Charlie was a volunteer on the beaches, helping to direct the boats safely ashore, and then offer the men, women and children water, food and other assistance.\n",
    "He had been moved to fly to Lesbos to help after a friend had posted on Facebook about the situation just a few weeks earlier.\n",
    "\"As a dad with two kids my heart really went out to these families that were trying to get to the island,\" he says. \"There were young kids, women, all traumatised after fleeing war-torn countries.\"\n",
    "In going to Lesbos Charlie had taken time off from his day job as founder and boss of student accommodation company The Student Hotel (TSH).\n",
    "Today the Scottish businessman balances his time running TSH with helping to lead the charity he co-founded in 2016, Movement On The Ground.\n",
    "The charity helps refugees \"from the moment they arrive in Europe, until they're safe and sound in their new home country\".\n",
    "Born and raised in Edinburgh, Charlie says that \"student accommodation is in his blood\".\n",
    "His father had built student homes for the University of Edinburgh in the 1980s, and Charlie started his career working on those building sites at the tender age of 16.\n",
    "A few years later he used two loans - one from a bank, and one from his dad - to launch his own student accommodation company in Scotland.\n",
    "More The Boss features:\n",
    "Then in 2003, aged 27, he decided he wanted to live abroad. So he sold up, repaid the loans and moved to Amsterdam to launch TSH.\n",
    "The idea for the business was a pan-European chain of fashionable student accommodation buildings that are also hotels open to members of the public. So while most occupants would be students on long-term lets, business travellers or holidaymakers could rent rooms by the night. And there would be onsite restaurants, bars and gyms.\n",
    "Charlie was convinced that the idea would work, but others were less than enthusiastic.\n",
    "\"When I first thought of the concept I was literally laughed out of a meeting when I presented my idea to a room full of developers,\" he says.\n",
    "Undeterred, Charlie kept pitching his plans, and eventually a bank decided to back him. The first Student Hotel opened in Rotterdam in 2006, with other Dutch sites following.\n",
    "Then the global financial crisis hit in 2008, and the business ran into trouble.\n",
    "\"Six times I gave the keys to the company back to the bank,\" says Charlie.\n",
    "\"The saving grace was that there was also no-one else in the market who would, or could, buy the buildings, so even though the bank tried to sell them, they couldn't.\"\n",
    "As a result the bank kept allowing Charlie another go at running the business, and eventually he was able to ride out the storm.\n",
    "Today TSH has 11 sites across Europe, from Barcelona to Dresden, and another 12 in development, from Lisbon to Rome. Locations in the UK are also now being explored.\n",
    "Two years ago Dutch pension fund ABP invested €100m ($115m; £87m) in the business, and TSH says its annual turnover is now due to surpass €75m.\n",
    "Architect Andrei Martin, a partner at UK firm PLP Architecture, says that TSH is helping to lead \"an exciting development\" in student housing, making it of a higher, more appealing standard.\n",
    "\"Operators like The Student Hotel, who cater to a predominantly - although not exclusively - young demographic are radically reshaping our expectations of student housing,\" he says.\n",
    "But if running TSH was not enough work for Charlie, he spends part of each working day helping to look after things at Movement On The Ground, and visits Lesbos four or five times a year to help out personally.\n",
    "Initially Charlie and the four other co-founders funded the charity themselves, but it now relies on outside donations.\n",
    "Work the charity has so far done in the refugee and migrant camps on the island includes working with the Red Cross and Doctors Without Borders to introduce toilet and shower facilities, and weatherproof tents.\n",
    "It has also started a football programme for children, and set up digital learning labs, so that the refugees and migrants can use the internet, learn to touch type and to code.\n",
    "\"Football is a great way of bringing people together,\" says Charlie.\n",
    "\"And if people can leave the camp with a qualification for typing or coding, it would give them better opportunities.\"\n",
    "\"\"\"\n",
    "\n"
   ]
  },
  {
   "cell_type": "code",
   "execution_count": 3,
   "metadata": {},
   "outputs": [],
   "source": [
    "article_2 = \"\"\"Belgium has elected a black mayor for the first time - the father of international football star Vincent Kompany.\n",
    "Pierre Kompany topped the poll for the municipality of Ganshoren in Brussels, earning him the title of mayor.\n",
    "Mr Kompany arrived in Belgium in 1975 as a refugee from what is now the Democratic Republic of Congo.\n",
    "He became active in politics in 2006 as a councillor, and took a seat in the Brussels regional parliament in 2014.\n",
    "But he is perhaps best known for his famous sons. Vincent Kompany is both the captain of English Premier League club Manchester City and a constant fixture on the Belgium national team.\n",
    "Vincent's brother, Francois, plays for Belgian side KSV Roeselare.\n",
    "Both brothers were quick to congratulate their father in an Instagram post shared with Vincent's 1.6 million followers.\n",
    "\"History! We are so proud of you dad,\" he wrote.\n",
    "History! We are so proud of you dad. Came over from the DR Congo, as a refugee, in 1975. Now gained the trust of your local community becoming the first ever black elected mayor in Belgium! It was long over due but it’s progress. Massive congrats! #Belgium #Brussels #Ganshoren ‬✊🏾\n",
    "A post shared by Vincent Kompany (@vincentkompany) on Oct 14, 2018 at 12:43pm PDT\n",
    "End of Instagram post by vincentkompany\n",
    "\"He's the first black mayor in Belgium - it's never happened before, it's historic.... congratulations to my dad!\" Vincent said.\n",
    "On his Instagram post, Vincent added: \"It was long overdue but it's progress. Massive congrats!\"\n",
    "It's not the first time the football star has spoken about the need for progress in Belgian politics.\n",
    "Two days earlier, he tweeted an image of the Belgian parliament, noting \"very little multiculturalism\" on display.\n",
    "\"That also reflects non-existent diversity at all levels of power in Belgium,\" he said.\n",
    "Other mayoral candidates with mixed heritage have begun to enter politics in Belgium in recent years. Emir Kir, the son of Turkish immigrants, and was elected mayor of Saint-Josse in 2012; and Nadia Sminate, whose father was from Morocco, was elected the leader of Londerzeel in 2016.\"\"\""
   ]
  },
  {
   "cell_type": "code",
   "execution_count": 4,
   "metadata": {},
   "outputs": [],
   "source": [
    "article_3 = \"\"\"A former refugee who has taken over as Sheffield's Lord Mayor says he hopes to bring the role \"into the 21st Century\".\n",
    "Magid Magid, is the city's first Somali mayor, first Green Party mayor, and, at 28, the youngest mayor.\n",
    "He came to Sheffield aged five after six months in an Ethiopian refugee camp with his mother and five siblings who left Somalia \"to find a better life\".\n",
    "\"Just me being in the post brings an element of difference to the role,\" he said.\n",
    "Yorkshire Breaking News: Man dead in Leeds Ring Road crash and \"plastic-free\" shop opens in Sheffield\n",
    "Mr Magid, who was a contestant on Channel 4's reality show Hunted, added: \"I hope it will help engage those that have not previously engaged before.\"\n",
    "He was sworn into his new role at the annual mayor-making ceremony, where the Imperial March from Star Wars was played followed by the Superman theme tune, as reported by the Sheffield Star.\n",
    "But his story is not a case of a privileged upbringing helping to open doors but of determination, ambition - and a love of climbing mountains.\n",
    "Born in Burao in war-torn northern Somalia, Mr Magid said he did not remember much of his childhood and had never returned to his country of birth.\n",
    "\"I remember just being happy, playing around as you do as a kid, but in reality it was a completely different story,\" he said.\n",
    "His family set up home in Sheffield's Burngreave area.\n",
    "He said life was difficult when he and his family arrived, trying to learn the language and adapt to a new way of life.\n",
    "His mother worked as a cleaner to look after her children, with Magid and his siblings acting as translators.\n",
    "He went to Fir Vale School where he said he was \"just like your average child\".\n",
    "By the time he was 17 he said his \"massive fascination with mountains\" had emerged.\n",
    "\"I really wanted to climb the seven summits, so I worked 12-hour shifts every day for nine weeks and paid to go on a mountaineering course in the Swiss Alps.\n",
    "\"When I was 19 I wanted to climb Kilimanjaro, so I packed what I needed, went to the local town and found someone to climb it with me.\n",
    "\"I guess that's how I like to do things. I like to look for solutions to barriers, and being courageous and brave is part of being able to do that.\"\n",
    "From mountain tops to the bottoms of the ocean, Magid went on to study aquatic zoology at the University of Hull.\n",
    "\"I just really wanted to go to university,\" he said.\n",
    "\"You are taking yourself out of your comfort zone and where else would you meet so many people from different parts of the world and experience such different things in one place. That's what I wanted.\"\n",
    "He said he developed an interest in politics while at university and was elected as president of the students' union.\n",
    "He admits he was not \"politically savvy\" adding he \"had no idea between the left and the right but I knew I cared about certain issues\".\n",
    "In 2014 he delved further into politics, becoming a regular viewer of the BBC's Daily Politics show, \"I used to think, 'who actually watched this?'\" he said, \"but there I was\".\n",
    "Despite friends and family largely supporting Labour, he said he found the Green Party better represented his views and in 2016 he was elected as Green councillor for Broomhill and Sharrow Vale.\"\"\""
   ]
  },
  {
   "cell_type": "code",
   "execution_count": 5,
   "metadata": {},
   "outputs": [],
   "source": [
    "article_4=\"\"\"A row raging over the migrant caravan travelling towards the United States is being fuelled by misinformation and false statements online.\n",
    "Thousands of migrants have got as far as Mexico, after the caravan which set out from Honduras has travelled north and grown in size.\n",
    "The caravan's progress towards the US southern border has become the subject of intense speculation and discussion on social media.\n",
    "A number of false or misleading assertions are among those to be shared widely.\n",
    "On @FoxNews this morning. Really? “Report: 100 ISIS terrorists caught in Guatemala” with the immigrant caravan? Report from who? pic.twitter.com/VPHG6auCoI\n",
    "End of Twitter post by @BBCJonSopel\n",
    "On Monday, President Trump asserted that \"unknown Middle Easterners\" were \"mixed in\" with the caravan heading north. However, on Tuesday he acknowledged there was no proof of those claims.\n",
    "\"There's no proof of anything. But there could very well be,\" the president said.\n",
    "His initial assertion came shortly after Fox and Friends host Pete Hegseth reported claims that Guatemalan President Jimmy Morales had told a local newspaper they had caught more than 100 Islamic State group fighters in the country.\n",
    "Reporters on the ground, including BBC correspondent Aleem Maqbool, have not seen \"unknown Middle Easterners\" among the migrants heading north.\n",
    "We have been here embedded with the migrants. Have not seen or heard about a single Middle Easterner. I spent seven+ years in the Middle East, and speak a little Arabic, would likely pick up on it... #Migrant #caravan #MiddleEast https://t.co/49BM8DfPtm\n",
    "End of Twitter post by @mattgutmanABC\n",
    "I asked @JeffFlake if he knew what Trump was referring to with warning of “unknown Middle Easterners” in caravan: “No. That’s long been a canard and a fear tactic.”\n",
    "End of Twitter post by @jaketapper\n",
    "BREAKING: Footage in Honduras giving cash 2 women & children 2 join the caravan & storm the US border @ election time. Soros? US-backed NGOs? Time to investigate the source! pic.twitter.com/5pEByiGkkN\n",
    "End of Twitter post by @RepMattGaetz\n",
    "Last week, Republican congressman Matt Gaetz tweeted a video he said showed Hondurans being paid to join the migrant caravan.\n",
    "Billionaire philanthropist George Soros, who is something of a pantomime villain in the eyes of many on the right, might be behind the payments, Gaetz suggested.\n",
    "President Trump was among those to share the footage, which has been viewed millions of times, while the claims that migrants have been in some way funded by Soros or the Democrats have continued to be repeated on social media.\n",
    "I've called @CampbellSoupCo PR & @johnston_kelly asking for evidence of this claim, & also whether it reflects Campbell's corporate position. I will update if I hear back. Johnston is currently registered to lobby for Campbell on trade & agriculture issues https://t.co/W2ppfkBJJm\n",
    "End of Twitter post by @kenvogel\n",
    "On Monday, vice president of government affairs at Campbell Soup, Kelly Johnston, claimed Mr Soros' philanthropic organisation Open Society \"planned and is executing this\".\n",
    "There does not appear to be any evidence of this and none appears to have been offered. A company spokesperson said: \"The opinions Mr Johnston expresses on Twitter are his individual views and do not represent the position of Campbell Soup Company\". Mr Johnston later deleted his Twitter account.\n",
    "Open Society denies any involvement and the video shared by Gaetz and the president was actually filmed in Guatemala, a fact which Gaetz later acknowledged he had got wrong.\n",
    "Guatemalan journalist Luis Assardo posted details on Twitter about his efforts to investigate the claims.\n",
    "Assardo said he had spoken to locals who told him money, food and clothing were being handed out by local retailers to those in the caravan, up to a maximum of about $25 (£19) each.\n",
    "Ayer @RepMattGaetz publicó un video donde asegura que en Honduras le daban dinero a los miembros de la #CaravanaDeMigrantes Él mismo alienta a que se investigue la fuente. Así que en el hilo va info. pic.twitter.com/wy67ck2Myv\n",
    "End of Twitter post by @luisassardo\n",
    "Earlier this month President Trump, without evidence, accused Mr Soros of paying women protesting against the appointment of Brett Kavanaugh to the Supreme Court.\n",
    "On Monday, New York police said they had safely destroyed a suspected letter bomb sent to Mr Soros's home.\n",
    "It's an eye-grabbing image: a bloodied Mexican federal police agent is helped by a colleague bearing a riot shield.\n",
    "Prominent pro-Trump Facebook pages are among those to have shared it with their followers, alongside the claim it shows an officer \"brutalised by members of the caravan as they attempt to force their way into Mexico\".\n",
    "Virginia Thomas, who is married to Supreme Court Justice Clarence Thomas, also posted the images.\n",
    "\"The media won't share this, will they?\" she wrote.\n",
    "But the image does not come from the migrant caravan story. Photojournalist Gustavo Aguado took the picture in October 2012 during clashes between police and students at a Mexican high school.\n",
    "\"\"\""
   ]
  },
  {
   "cell_type": "code",
   "execution_count": 6,
   "metadata": {},
   "outputs": [],
   "source": [
    "appos = {\n",
    "\"aren't\" : \"are not\",\n",
    "\"can't\" : \"cannot\",\n",
    "\"couldn't\" : \"could not\",\n",
    "\"didn't\" : \"did not\",\n",
    "\"doesn't\" : \"does not\",\n",
    "\"don't\" : \"do not\",\n",
    "\"hadn't\" : \"had not\",\n",
    "\"hasn't\" : \"has not\",\n",
    "\"haven't\" : \"have not\",\n",
    "\"he'd\" : \"he would\",\n",
    "\"he'll\" : \"he will\",\n",
    "\"he's\" : \"he is\",\n",
    "\"i'd\" : \"I would\",\n",
    "\"i'd\" : \"I had\",\n",
    "\"i'll\" : \"I will\",\n",
    "\"i'm\" : \"I am\",\n",
    "\"isn't\" : \"is not\",\n",
    "\"it's\" : \"it is\",\n",
    "\"it'll\":\"it will\",\n",
    "\"i've\" : \"I have\",\n",
    "\"let's\" : \"let us\",\n",
    "\"mightn't\" : \"might not\",\n",
    "\"mustn't\" : \"must not\",\n",
    "\"shan't\" : \"shall not\",\n",
    "\"she'd\" : \"she would\",\n",
    "\"she'll\" : \"she will\",\n",
    "\"she's\" : \"she is\",\n",
    "\"shouldn't\" : \"should not\",\n",
    "\"that's\" : \"that is\",\n",
    "\"there's\" : \"there is\",\n",
    "\"they'd\" : \"they would\",\n",
    "\"they'll\" : \"they will\",\n",
    "\"they're\" : \"they are\",\n",
    "\"they've\" : \"they have\",\n",
    "\"we'd\" : \"we would\",\n",
    "\"we're\" : \"we are\",\n",
    "\"weren't\" : \"were not\",\n",
    "\"we've\" : \"we have\",\n",
    "\"what'll\" : \"what will\",\n",
    "\"what're\" : \"what are\",\n",
    "\"what's\" : \"what is\",\n",
    "\"what've\" : \"what have\",\n",
    "\"where's\" : \"where is\",\n",
    "\"who'd\" : \"who would\",\n",
    "\"who'll\" : \"who will\",\n",
    "\"who're\" : \"who are\",\n",
    "\"who's\" : \"who is\",\n",
    "\"who've\" : \"who have\",\n",
    "\"won't\" : \"will not\",\n",
    "\"wouldn't\" : \"would not\",\n",
    "\"you'd\" : \"you would\",\n",
    "\"you'll\" : \"you will\",\n",
    "\"you're\" : \"you are\",\n",
    "\"you've\" : \"you have\",\n",
    "\"'re\": \" are\",\n",
    "\"wasn't\": \"was not\",\n",
    "\"we'll\":\" will\",\n",
    "\"didn't\": \"did not\"\n",
    "}"
   ]
  },
  {
   "cell_type": "code",
   "execution_count": 7,
   "metadata": {},
   "outputs": [],
   "source": [
    "lower_case = article_4.lower()"
   ]
  },
  {
   "cell_type": "code",
   "execution_count": 8,
   "metadata": {},
   "outputs": [
    {
     "data": {
      "text/plain": [
       "'a row raging over the migrant caravan travelling towards the united states is being fuelled by misinformation and false statements online. thousands of migrants have got as far as mexico, after the caravan which set out from honduras has travelled north and grown in size. the caravan\\'s progress towards the us southern border has become the subject of intense speculation and discussion on social media. a number of false or misleading assertions are among those to be shared widely. on @foxnews this morning. really? “report: 100 isis terrorists caught in guatemala” with the immigrant caravan? report from who? pic.twitter.com/vphg6aucoi end of twitter post by @bbcjonsopel on monday, president trump asserted that \"unknown middle easterners\" were \"mixed in\" with the caravan heading north. however, on tuesday he acknowledged there was no proof of those claims. \"there\\'s no proof of anything. but there could very well be,\" the president said. his initial assertion came shortly after fox and friends host pete hegseth reported claims that guatemalan president jimmy morales had told a local newspaper they had caught more than 100 islamic state group fighters in the country. reporters on the ground, including bbc correspondent aleem maqbool, have not seen \"unknown middle easterners\" among the migrants heading north. we have been here embedded with the migrants. have not seen or heard about a single middle easterner. i spent seven+ years in the middle east, and speak a little arabic, would likely pick up on it... #migrant #caravan #middleeast https://t.co/49bm8dfptm end of twitter post by @mattgutmanabc i asked @jeffflake if he knew what trump was referring to with warning of “unknown middle easterners” in caravan: “no. that’s long been a canard and a fear tactic.” end of twitter post by @jaketapper breaking: footage in honduras giving cash 2 women & children 2 join the caravan & storm the us border @ election time. soros? us-backed ngos? time to investigate the source! pic.twitter.com/5pebyigkkn end of twitter post by @repmattgaetz last week, republican congressman matt gaetz tweeted a video he said showed hondurans being paid to join the migrant caravan. billionaire philanthropist george soros, who is something of a pantomime villain in the eyes of many on the right, might be behind the payments, gaetz suggested. president trump was among those to share the footage, which has been viewed millions of times, while the claims that migrants have been in some way funded by soros or the democrats have continued to be repeated on social media. I have called @campbellsoupco pr & @johnston_kelly asking for evidence of this claim, & also whether it reflects campbell\\'s corporate position. i will update if i hear back. johnston is currently registered to lobby for campbell on trade & agriculture issues https://t.co/w2ppfkbjjm end of twitter post by @kenvogel on monday, vice president of government affairs at campbell soup, kelly johnston, claimed mr soros\\' philanthropic organisation open society \"planned and is executing this\". there does not appear to be any evidence of this and none appears to have been offered. a company spokesperson said: \"the opinions mr johnston expresses on twitter are his individual views and do not represent the position of campbell soup company\". mr johnston later deleted his twitter account. open society denies any involvement and the video shared by gaetz and the president was actually filmed in guatemala, a fact which gaetz later acknowledged he had got wrong. guatemalan journalist luis assardo posted details on twitter about his efforts to investigate the claims. assardo said he had spoken to locals who told him money, food and clothing were being handed out by local retailers to those in the caravan, up to a maximum of about $25 (£19) each. ayer @repmattgaetz publicó un video donde asegura que en honduras le daban dinero a los miembros de la #caravanademigrantes él mismo alienta a que se investigue la fuente. así que en el hilo va info. pic.twitter.com/wy67ck2myv end of twitter post by @luisassardo earlier this month president trump, without evidence, accused mr soros of paying women protesting against the appointment of brett kavanaugh to the supreme court. on monday, new york police said they had safely destroyed a suspected letter bomb sent to mr soros\\'s home. it is an eye-grabbing image: a bloodied mexican federal police agent is helped by a colleague bearing a riot shield. prominent pro-trump facebook pages are among those to have shared it with their followers, alongside the claim it shows an officer \"brutalised by members of the caravan as they attempt to force their way into mexico\". virginia thomas, who is married to supreme court justice clarence thomas, also posted the images. \"the media will not share this, will they?\" she wrote. but the image does not come from the migrant caravan story. photojournalist gustavo aguado took the picture in october 2012 during clashes between police and students at a mexican high school.'"
      ]
     },
     "execution_count": 8,
     "metadata": {},
     "output_type": "execute_result"
    }
   ],
   "source": [
    "words = lower_case.split()\n",
    "reformed = [appos[word] if word in appos else word for word in words]\n",
    "reformed = \" \".join(reformed) \n",
    "reformed"
   ]
  },
  {
   "cell_type": "code",
   "execution_count": 43,
   "metadata": {},
   "outputs": [],
   "source": [
    "slo_string = \"\"\"Vceraj ob 21ti uri sem sel na sprehod ob 20 ti obeltnici.\n",
    "Morda ni bilo vredu! Ampak kasnja je ibla pa hran!!!?!-#\n",
    "Vseeno bi bilo sprobati še uporabo \"šumnikov\" čep%!£\"%rav jih ne maram.\n",
    "\"\"\""
   ]
  },
  {
   "cell_type": "code",
   "execution_count": 49,
   "metadata": {},
   "outputs": [],
   "source": [
    "slo_string = slo_string.replace('\\n', ' ').replace('\\r', '')"
   ]
  },
  {
   "cell_type": "code",
   "execution_count": 50,
   "metadata": {},
   "outputs": [
    {
     "data": {
      "text/plain": [
       "['Vceraj',\n",
       " 'ob',\n",
       " 'uri',\n",
       " 'sem',\n",
       " 'sel',\n",
       " 'na',\n",
       " 'sprehod',\n",
       " 'ob',\n",
       " 'ti',\n",
       " 'Morda',\n",
       " 'ni',\n",
       " 'bilo',\n",
       " 'Ampak',\n",
       " 'kasnja',\n",
       " 'je',\n",
       " 'ibla',\n",
       " 'pa',\n",
       " 'Vseeno',\n",
       " 'bi',\n",
       " 'bilo',\n",
       " 'sprobati',\n",
       " 'še',\n",
       " 'uporabo',\n",
       " 'jih',\n",
       " 'ne']"
      ]
     },
     "execution_count": 50,
     "metadata": {},
     "output_type": "execute_result"
    }
   ],
   "source": [
    "[x for x in slo_string.split() if x.isalpha()  ]"
   ]
  },
  {
   "cell_type": "code",
   "execution_count": 51,
   "metadata": {},
   "outputs": [],
   "source": [
    "import re\n",
    "s = slo_string\n",
    "s = re.sub(r'[^\\w\\s]','',s)\n"
   ]
  },
  {
   "cell_type": "code",
   "execution_count": 52,
   "metadata": {},
   "outputs": [
    {
     "data": {
      "text/plain": [
       "'Vceraj ob 21ti uri sem sel na sprehod ob 20 ti obeltnici Morda ni bilo vredu Ampak kasnja je ibla pa hran Vseeno bi bilo sprobati še uporabo šumnikov čeprav jih ne maram '"
      ]
     },
     "execution_count": 52,
     "metadata": {},
     "output_type": "execute_result"
    }
   ],
   "source": [
    "s"
   ]
  },
  {
   "cell_type": "code",
   "execution_count": 54,
   "metadata": {},
   "outputs": [
    {
     "data": {
      "text/plain": [
       "['Vceraj',\n",
       " 'ob',\n",
       " '21ti',\n",
       " 'uri',\n",
       " 'sem',\n",
       " 'sel',\n",
       " 'na',\n",
       " 'sprehod',\n",
       " 'ob',\n",
       " '20',\n",
       " 'ti',\n",
       " 'obeltnici',\n",
       " 'Morda',\n",
       " 'ni',\n",
       " 'bilo',\n",
       " 'vredu',\n",
       " 'Ampak',\n",
       " 'kasnja',\n",
       " 'je',\n",
       " 'ibla',\n",
       " 'pa',\n",
       " 'hran',\n",
       " 'Vseeno',\n",
       " 'bi',\n",
       " 'bilo',\n",
       " 'sprobati',\n",
       " 'še',\n",
       " 'uporabo',\n",
       " 'šumnikov',\n",
       " 'čeprav',\n",
       " 'jih',\n",
       " 'ne',\n",
       " 'maram']"
      ]
     },
     "execution_count": 54,
     "metadata": {},
     "output_type": "execute_result"
    }
   ],
   "source": [
    "[x for x in s.split() if x.isalnum()  ]"
   ]
  },
  {
   "cell_type": "code",
   "execution_count": 55,
   "metadata": {},
   "outputs": [
    {
     "data": {
      "text/plain": [
       "['Vceraj',\n",
       " 'ob',\n",
       " 'uri',\n",
       " 'sem',\n",
       " 'sel',\n",
       " 'na',\n",
       " 'sprehod',\n",
       " 'ob',\n",
       " 'ti',\n",
       " 'obeltnici',\n",
       " 'Morda',\n",
       " 'ni',\n",
       " 'bilo',\n",
       " 'vredu',\n",
       " 'Ampak',\n",
       " 'kasnja',\n",
       " 'je',\n",
       " 'ibla',\n",
       " 'pa',\n",
       " 'hran',\n",
       " 'Vseeno',\n",
       " 'bi',\n",
       " 'bilo',\n",
       " 'sprobati',\n",
       " 'še',\n",
       " 'uporabo',\n",
       " 'šumnikov',\n",
       " 'čeprav',\n",
       " 'jih',\n",
       " 'ne',\n",
       " 'maram']"
      ]
     },
     "execution_count": 55,
     "metadata": {},
     "output_type": "execute_result"
    }
   ],
   "source": [
    "[x for x in s.split() if x.isalpha()  ]"
   ]
  },
  {
   "cell_type": "code",
   "execution_count": 47,
   "metadata": {},
   "outputs": [],
   "source": [
    "art_1 = re.sub(r'[^\\w\\s]','',article_1)"
   ]
  },
  {
   "cell_type": "code",
   "execution_count": 48,
   "metadata": {},
   "outputs": [
    {
     "data": {
      "text/plain": [
       "'The BBCs weekly The Boss series profiles a different business leader from around the world This week we speak to Charlie MacGregor founder of student accommodation group The Student Hotel\\nScot Charlie MacGregor says he will never forget watching the boats full of desperate refugees and illegal migrants trying to come ashore on the Greek island of Lesbos\\nSome boats didnt know where they were going so would end up on the rocks says the 42yearold Some of those onboard didnt even make it\\nThe lucky ones that did were often terrorised not only by the journey but fearing what would happen to them next\\nThis was in October 2015 when more than 2000 people in unauthorised boats were arriving on Lesbos every single day most of them Syrians escaping civil war\\nCharlie was a volunteer on the beaches helping to direct the boats safely ashore and then offer the men women and children water food and other assistance\\nHe had been moved to fly to Lesbos to help after a friend had posted on Facebook about the situation just a few weeks earlier\\nAs a dad with two kids my heart really went out to these families that were trying to get to the island he says There were young kids women all traumatised after fleeing wartorn countries\\nIn going to Lesbos Charlie had taken time off from his day job as founder and boss of student accommodation company The Student Hotel TSH\\nToday the Scottish businessman balances his time running TSH with helping to lead the charity he cofounded in 2016 Movement On The Ground\\nThe charity helps refugees from the moment they arrive in Europe until theyre safe and sound in their new home country\\nBorn and raised in Edinburgh Charlie says that student accommodation is in his blood\\nHis father had built student homes for the University of Edinburgh in the 1980s and Charlie started his career working on those building sites at the tender age of 16\\nA few years later he used two loans  one from a bank and one from his dad  to launch his own student accommodation company in Scotland\\nMore The Boss features\\nThen in 2003 aged 27 he decided he wanted to live abroad So he sold up repaid the loans and moved to Amsterdam to launch TSH\\nThe idea for the business was a panEuropean chain of fashionable student accommodation buildings that are also hotels open to members of the public So while most occupants would be students on longterm lets business travellers or holidaymakers could rent rooms by the night And there would be onsite restaurants bars and gyms\\nCharlie was convinced that the idea would work but others were less than enthusiastic\\nWhen I first thought of the concept I was literally laughed out of a meeting when I presented my idea to a room full of developers he says\\nUndeterred Charlie kept pitching his plans and eventually a bank decided to back him The first Student Hotel opened in Rotterdam in 2006 with other Dutch sites following\\nThen the global financial crisis hit in 2008 and the business ran into trouble\\nSix times I gave the keys to the company back to the bank says Charlie\\nThe saving grace was that there was also noone else in the market who would or could buy the buildings so even though the bank tried to sell them they couldnt\\nAs a result the bank kept allowing Charlie another go at running the business and eventually he was able to ride out the storm\\nToday TSH has 11 sites across Europe from Barcelona to Dresden and another 12 in development from Lisbon to Rome Locations in the UK are also now being explored\\nTwo years ago Dutch pension fund ABP invested 100m 115m 87m in the business and TSH says its annual turnover is now due to surpass 75m\\nArchitect Andrei Martin a partner at UK firm PLP Architecture says that TSH is helping to lead an exciting development in student housing making it of a higher more appealing standard\\nOperators like The Student Hotel who cater to a predominantly  although not exclusively  young demographic are radically reshaping our expectations of student housing he says\\nBut if running TSH was not enough work for Charlie he spends part of each working day helping to look after things at Movement On The Ground and visits Lesbos four or five times a year to help out personally\\nInitially Charlie and the four other cofounders funded the charity themselves but it now relies on outside donations\\nWork the charity has so far done in the refugee and migrant camps on the island includes working with the Red Cross and Doctors Without Borders to introduce toilet and shower facilities and weatherproof tents\\nIt has also started a football programme for children and set up digital learning labs so that the refugees and migrants can use the internet learn to touch type and to code\\nFootball is a great way of bringing people together says Charlie\\nAnd if people can leave the camp with a qualification for typing or coding it would give them better opportunities\\n'"
      ]
     },
     "execution_count": 48,
     "metadata": {},
     "output_type": "execute_result"
    }
   ],
   "source": [
    "art_1\n"
   ]
  },
  {
   "cell_type": "code",
   "execution_count": null,
   "metadata": {},
   "outputs": [],
   "source": []
  }
 ],
 "metadata": {
  "kernelspec": {
   "display_name": "Python [conda env:onj]",
   "language": "python",
   "name": "conda-env-onj-py"
  },
  "language_info": {
   "codemirror_mode": {
    "name": "ipython",
    "version": 3
   },
   "file_extension": ".py",
   "mimetype": "text/x-python",
   "name": "python",
   "nbconvert_exporter": "python",
   "pygments_lexer": "ipython3",
   "version": "3.6.6"
  }
 },
 "nbformat": 4,
 "nbformat_minor": 2
}
