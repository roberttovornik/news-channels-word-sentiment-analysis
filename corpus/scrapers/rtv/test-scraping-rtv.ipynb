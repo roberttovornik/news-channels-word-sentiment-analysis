{
 "cells": [
  {
   "cell_type": "code",
   "execution_count": 1,
   "metadata": {},
   "outputs": [],
   "source": [
    "import requests\n",
    "from bs4 import BeautifulSoup"
   ]
  },
  {
   "cell_type": "code",
   "execution_count": null,
   "metadata": {},
   "outputs": [],
   "source": []
  },
  {
   "cell_type": "code",
   "execution_count": 2,
   "metadata": {},
   "outputs": [],
   "source": [
    "query_url = \"http://www.rtvslo.si/iskalnik?group=1&type=4&sort=1&q=\""
   ]
  },
  {
   "cell_type": "code",
   "execution_count": 3,
   "metadata": {},
   "outputs": [],
   "source": [
    "query_tags = ['prebežniki']\n"
   ]
  },
  {
   "cell_type": "code",
   "execution_count": null,
   "metadata": {},
   "outputs": [],
   "source": []
  },
  {
   "cell_type": "code",
   "execution_count": 23,
   "metadata": {},
   "outputs": [],
   "source": [
    "# for tag in query_tags:\n",
    "url_search = query_url + tag"
   ]
  },
  {
   "cell_type": "code",
   "execution_count": 39,
   "metadata": {},
   "outputs": [],
   "source": [
    "page_num=66"
   ]
  },
  {
   "cell_type": "code",
   "execution_count": 40,
   "metadata": {},
   "outputs": [],
   "source": [
    "url_search += \"&page=\"+str(page_num)"
   ]
  },
  {
   "cell_type": "code",
   "execution_count": 41,
   "metadata": {},
   "outputs": [],
   "source": [
    "r = requests.get(url_search)"
   ]
  },
  {
   "cell_type": "code",
   "execution_count": 42,
   "metadata": {},
   "outputs": [],
   "source": [
    "soup = BeautifulSoup(r.content)\n"
   ]
  },
  {
   "cell_type": "code",
   "execution_count": 43,
   "metadata": {},
   "outputs": [],
   "source": [
    "page_articles_list = soup.find_all(\"div\", {\"class\":\"stitle\"})"
   ]
  },
  {
   "cell_type": "code",
   "execution_count": 44,
   "metadata": {},
   "outputs": [
    {
     "name": "stdout",
     "output_type": "stream",
     "text": [
      "\"Slovenska policija pokazala Evropi, da zna braniti schengensko mejo\"\n",
      "Juncker obvladovanje razmer s prebežniki v Sloveniji ocenil kot pozitivno\n",
      "Milanović: \"Slovenija se lahko hvali, saj Hrvaška opravlja delo namesto nje\"\n",
      "Foto: Zatišje na mejnih prehodih\n",
      "Med begunskim valom na Hrvaškem: \"Želimo živeti človeka vredno življenje\"\n",
      "Angela Merkel: Nemčija zelo ceni profesionalno držo Slovenije\n",
      "V Avstrijo v dnevu in pol vstopilo 22 tisoč prebežnikov\n",
      "More than 1,500 migrants have entered Slovenia\n",
      "Mejna prehoda Obrežje in Rigonce zaprta za promet, na Obrežju protest\n",
      "Policisti negodujejo nad delovnimi razmerami\n"
     ]
    }
   ],
   "source": [
    "for article in page_articles_list:\n",
    "    print(article.text)"
   ]
  },
  {
   "cell_type": "code",
   "execution_count": 45,
   "metadata": {},
   "outputs": [
    {
     "data": {
      "text/plain": [
       "10"
      ]
     },
     "execution_count": 45,
     "metadata": {},
     "output_type": "execute_result"
    }
   ],
   "source": [
    "len(page_articles_list)"
   ]
  },
  {
   "cell_type": "code",
   "execution_count": 47,
   "metadata": {},
   "outputs": [
    {
     "name": "stdout",
     "output_type": "stream",
     "text": [
      "/slovenija/slovenska-policija-pokazala-evropi-da-zna-braniti-schengensko-mejo/374553\n",
      "/evropska-unija/juncker-obvladovanje-razmer-s-prebezniki-v-sloveniji-ocenil-kot-pozitivno/374522\n",
      "/svet/milanovic-slovenija-se-lahko-hvali-saj-hrvaska-opravlja-delo-namesto-nje/374505\n",
      "/slovenija/foto-zatisje-na-mejnih-prehodih/374490\n",
      "/svet/med-begunskim-valom-na-hrvaskem-zelimo-ziveti-cloveka-vredno-zivljenje/374457\n",
      "/slovenija/angela-merkel-nemcija-zelo-ceni-profesionalno-drzo-slovenije/374455\n",
      "/svet/v-avstrijo-v-dnevu-in-pol-vstopilo-22-tisoc-prebeznikov/374444\n",
      "/news-in-english/more-than-1-500-migrants-have-entered-slovenia/374441\n",
      "/slovenija/mejna-prehoda-obrezje-in-rigonce-zaprta-za-promet-na-obrezju-protest/374439\n",
      "/slovenija/policisti-negodujejo-nad-delovnimi-razmerami/374405\n"
     ]
    }
   ],
   "source": [
    "for article in page_articles_list:\n",
    "    print(article.a.get('href'))"
   ]
  },
  {
   "cell_type": "code",
   "execution_count": null,
   "metadata": {},
   "outputs": [],
   "source": []
  }
 ],
 "metadata": {
  "kernelspec": {
   "display_name": "Python 3",
   "language": "python",
   "name": "python3"
  },
  "language_info": {
   "codemirror_mode": {
    "name": "ipython",
    "version": 3
   },
   "file_extension": ".py",
   "mimetype": "text/x-python",
   "name": "python",
   "nbconvert_exporter": "python",
   "pygments_lexer": "ipython3",
   "version": "3.7.0"
  }
 },
 "nbformat": 4,
 "nbformat_minor": 2
}
